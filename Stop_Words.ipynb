{
  "nbformat": 4,
  "nbformat_minor": 0,
  "metadata": {
    "colab": {
      "name": "Stop Words.ipynb",
      "provenance": [],
      "collapsed_sections": [],
      "toc_visible": true,
      "authorship_tag": "ABX9TyMMH5YQ0wAiMwcXdHDEVgS9"
    },
    "kernelspec": {
      "name": "python3",
      "display_name": "Python 3"
    }
  },
  "cells": [
    {
      "cell_type": "markdown",
      "metadata": {
        "id": "2Q8pSTTny1QD",
        "colab_type": "text"
      },
      "source": [
        "Menghapus kata sambung (dan, yang, juga, dan lain-lain) atau kata yang tidak diperlukan pada kalimat.\n",
        "\n",
        "NB : `sifatnya optional disesuaikan dengan kebutuhan penelitian.`"
      ]
    },
    {
      "cell_type": "markdown",
      "metadata": {
        "id": "BIC3Zn_Hys7P",
        "colab_type": "text"
      },
      "source": [
        "# Hapus Stop Words"
      ]
    },
    {
      "cell_type": "markdown",
      "metadata": {
        "id": "o5obEYitzDpK",
        "colab_type": "text"
      },
      "source": [
        "\n",
        "\n",
        "**1.   Menggunakan NLTK**\n",
        "\n",
        "\n",
        "\n"
      ]
    },
    {
      "cell_type": "code",
      "metadata": {
        "id": "euH_afKnyjWp",
        "colab_type": "code",
        "outputId": "5e9f957c-155a-4332-8baa-9c6de3521b01",
        "colab": {
          "base_uri": "https://localhost:8080/",
          "height": 68
        }
      },
      "source": [
        "import nltk\n",
        "from nltk.corpus import stopwords \n",
        "nltk.download('stopwords')"
      ],
      "execution_count": 0,
      "outputs": [
        {
          "output_type": "stream",
          "text": [
            "[nltk_data] Downloading package stopwords to /root/nltk_data...\n",
            "[nltk_data]   Package stopwords is already up-to-date!\n"
          ],
          "name": "stdout"
        },
        {
          "output_type": "execute_result",
          "data": {
            "text/plain": [
              "True"
            ]
          },
          "metadata": {
            "tags": []
          },
          "execution_count": 12
        }
      ]
    },
    {
      "cell_type": "code",
      "metadata": {
        "id": "ll2xVzjtzQHe",
        "colab_type": "code",
        "outputId": "c87e32d0-ac97-4db8-f65c-6b9d6c0bea97",
        "colab": {
          "base_uri": "https://localhost:8080/",
          "height": 68
        }
      },
      "source": [
        "from nltk.tokenize import word_tokenize\n",
        "nltk.download('punkt')"
      ],
      "execution_count": 0,
      "outputs": [
        {
          "output_type": "stream",
          "text": [
            "[nltk_data] Downloading package punkt to /root/nltk_data...\n",
            "[nltk_data]   Package punkt is already up-to-date!\n"
          ],
          "name": "stdout"
        },
        {
          "output_type": "execute_result",
          "data": {
            "text/plain": [
              "True"
            ]
          },
          "metadata": {
            "tags": []
          },
          "execution_count": 13
        }
      ]
    },
    {
      "cell_type": "code",
      "metadata": {
        "id": "yU7SOU2SzR3q",
        "colab_type": "code",
        "outputId": "e34c35d8-7b10-4514-f1b8-c7462990a2d0",
        "colab": {
          "base_uri": "https://localhost:8080/",
          "height": 34
        }
      },
      "source": [
        "# NLTK English\n",
        "kalimat_1 = \"NLTK is a leading platform for building Python programs to work with human language data.\"\n",
        "stop_words = set(stopwords.words('english'))\n",
        "tokens = word_tokenize(kalimat_1)\n",
        "result = [i for i in tokens if not i in stop_words]\n",
        "print('English :' ,result)"
      ],
      "execution_count": 0,
      "outputs": [
        {
          "output_type": "stream",
          "text": [
            "English : ['NLTK', 'leading', 'platform', 'building', 'Python', 'programs', 'work', 'human', 'language', 'data', '.']\n"
          ],
          "name": "stdout"
        }
      ]
    },
    {
      "cell_type": "code",
      "metadata": {
        "id": "vp-8Pmn8zT_6",
        "colab_type": "code",
        "outputId": "a6b5497b-2bbf-4cb5-d9b4-29112ec79686",
        "colab": {
          "base_uri": "https://localhost:8080/",
          "height": 34
        }
      },
      "source": [
        "# NLTK Indonesia\n",
        "import string\n",
        "from nltk.tokenize import sent_tokenize, word_tokenize\n",
        "from nltk.corpus import stopwords\n",
        "\n",
        "kalimat_2 = \"kita akan mencoba menghapus kata sambung dalam kalimat seperti: yang juga dan lain-lain\"\n",
        "kalimat_3 = kalimat_2.translate(str.maketrans({key: None for key in string.punctuation})).lower()\n",
        "\n",
        "tokens = word_tokenize(kalimat_3)\n",
        "bahasa = set(stopwords.words('indonesian'))\n",
        "\n",
        "hasil = [item for item in tokens if not item in bahasa]\n",
        "print('Indonesia :',' '.join(hasil))"
      ],
      "execution_count": 0,
      "outputs": [
        {
          "output_type": "stream",
          "text": [
            "Indonesia : mencoba menghapus sambung kalimat lainlain\n"
          ],
          "name": "stdout"
        }
      ]
    },
    {
      "cell_type": "markdown",
      "metadata": {
        "id": "tLM67nb8zdTC",
        "colab_type": "text"
      },
      "source": [
        "\n",
        "\n",
        "---\n",
        "\n",
        "\n",
        "**2.   Menggunakan Sastrawi**\n",
        "\n"
      ]
    },
    {
      "cell_type": "code",
      "metadata": {
        "id": "8PvbhQ03zjmn",
        "colab_type": "code",
        "outputId": "b5a37edc-2236-4ec6-8c43-aae0352d2d54",
        "colab": {
          "base_uri": "https://localhost:8080/",
          "height": 34
        }
      },
      "source": [
        "pip install Sastrawi"
      ],
      "execution_count": 0,
      "outputs": [
        {
          "output_type": "stream",
          "text": [
            "Requirement already satisfied: Sastrawi in /usr/local/lib/python3.6/dist-packages (1.0.1)\n"
          ],
          "name": "stdout"
        }
      ]
    },
    {
      "cell_type": "code",
      "metadata": {
        "id": "oMU2EFWlzmWr",
        "colab_type": "code",
        "outputId": "b95207b5-49ad-4724-e44f-5c0edee3a981",
        "colab": {
          "base_uri": "https://localhost:8080/",
          "height": 54
        }
      },
      "source": [
        "from Sastrawi.StopWordRemover.StopWordRemoverFactory import StopWordRemoverFactory\n",
        "\n",
        "factory = StopWordRemoverFactory()\n",
        "stopwords = factory.get_stop_words()\n",
        "print(stopwords)"
      ],
      "execution_count": 0,
      "outputs": [
        {
          "output_type": "stream",
          "text": [
            "['yang', 'untuk', 'pada', 'ke', 'para', 'namun', 'menurut', 'antara', 'dia', 'dua', 'ia', 'seperti', 'jika', 'jika', 'sehingga', 'kembali', 'dan', 'tidak', 'ini', 'karena', 'kepada', 'oleh', 'saat', 'harus', 'sementara', 'setelah', 'belum', 'kami', 'sekitar', 'bagi', 'serta', 'di', 'dari', 'telah', 'sebagai', 'masih', 'hal', 'ketika', 'adalah', 'itu', 'dalam', 'bisa', 'bahwa', 'atau', 'hanya', 'kita', 'dengan', 'akan', 'juga', 'ada', 'mereka', 'sudah', 'saya', 'terhadap', 'secara', 'agar', 'lain', 'anda', 'begitu', 'mengapa', 'kenapa', 'yaitu', 'yakni', 'daripada', 'itulah', 'lagi', 'maka', 'tentang', 'demi', 'dimana', 'kemana', 'pula', 'sambil', 'sebelum', 'sesudah', 'supaya', 'guna', 'kah', 'pun', 'sampai', 'sedangkan', 'selagi', 'sementara', 'tetapi', 'apakah', 'kecuali', 'sebab', 'selain', 'seolah', 'seraya', 'seterusnya', 'tanpa', 'agak', 'boleh', 'dapat', 'dsb', 'dst', 'dll', 'dahulu', 'dulunya', 'anu', 'demikian', 'tapi', 'ingin', 'juga', 'nggak', 'mari', 'nanti', 'melainkan', 'oh', 'ok', 'seharusnya', 'sebetulnya', 'setiap', 'setidaknya', 'sesuatu', 'pasti', 'saja', 'toh', 'ya', 'walau', 'tolong', 'tentu', 'amat', 'apalagi', 'bagaimanapun']\n"
          ],
          "name": "stdout"
        }
      ]
    },
    {
      "cell_type": "code",
      "metadata": {
        "id": "-WyKUoYQzp5_",
        "colab_type": "code",
        "outputId": "3c9b2659-73a0-4927-c350-9261b9387b47",
        "colab": {
          "base_uri": "https://localhost:8080/",
          "height": 34
        }
      },
      "source": [
        "factory = StopWordRemoverFactory()\n",
        "stopword = factory.create_stop_word_remover()\n",
        "\n",
        "kalimat_4 = 'Saya pada hari ini pergi ke Jogja dan kembali mengajar seperti biasa, dengan senang hati mengajar'\n",
        "stop = stopword.remove(kalimat_4)\n",
        "print(stop)"
      ],
      "execution_count": 0,
      "outputs": [
        {
          "output_type": "stream",
          "text": [
            "Saya hari pergi Jogja kembali mengajar biasa, senang hati mengajar\n"
          ],
          "name": "stdout"
        }
      ]
    },
    {
      "cell_type": "markdown",
      "metadata": {
        "id": "GLplDLYmz92y",
        "colab_type": "text"
      },
      "source": [
        "# Tambah Stop Words"
      ]
    },
    {
      "cell_type": "code",
      "metadata": {
        "id": "-BzDM_RR0A3S",
        "colab_type": "code",
        "outputId": "f8d7b1a1-e79d-4389-af55-f5751f50aa7b",
        "colab": {
          "base_uri": "https://localhost:8080/",
          "height": 34
        }
      },
      "source": [
        "# Menambah corpus stopword NLTK\n",
        "from nltk.corpus import stopwords\n",
        "from nltk.tokenize import sent_tokenize, word_tokenize\n",
        "\n",
        "kalimat_5 = \"kita akan mencoba menghapus kata sambung dalam kalimat seperti: yang juga dan lain-lain\"\n",
        "split_word = word_tokenize(kalimat_5)\n",
        "\n",
        "bahasa = stopwords.words('indonesian')\n",
        "newStopWords = ['sambung','kalimat']\n",
        "bahasa.extend(newStopWords)\n",
        "\n",
        "hasil = [item for item in split_word if not item in bahasa]\n",
        "print('Indonesia :',' '.join(hasil))"
      ],
      "execution_count": 0,
      "outputs": [
        {
          "output_type": "stream",
          "text": [
            "Indonesia : mencoba menghapus : lain-lain\n"
          ],
          "name": "stdout"
        }
      ]
    },
    {
      "cell_type": "code",
      "metadata": {
        "id": "R2Fg47Ju0fAW",
        "colab_type": "code",
        "outputId": "1e897a90-f49a-4c23-806d-cd1409079499",
        "colab": {
          "base_uri": "https://localhost:8080/",
          "height": 34
        }
      },
      "source": [
        "# Menambah corpus stopword Sastrawi\n",
        "from Sastrawi.StopWordRemover.StopWordRemoverFactory import StopWordRemoverFactory, StopWordRemover, ArrayDictionary\n",
        "kalimat_6 = 'Saya pada hari ini pergi ke Jogja dan kembali mengajar seperti biasa, dengan senang hati mengajar'\n",
        "  \n",
        "stop_factory = StopWordRemoverFactory().get_stop_words()\n",
        "more_stopword = ['pergi','hati']\n",
        "\n",
        "data = stop_factory + more_stopword\n",
        "\n",
        "dictionary = ArrayDictionary(data)\n",
        "new_str = StopWordRemover(dictionary)\n",
        "\n",
        "print(new_str.remove(kalimat_6))"
      ],
      "execution_count": 0,
      "outputs": [
        {
          "output_type": "stream",
          "text": [
            "Saya hari pergi Jogja kembali mengajar biasa, senang mengajar\n"
          ],
          "name": "stdout"
        }
      ]
    }
  ]
}