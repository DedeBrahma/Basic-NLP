{
  "nbformat": 4,
  "nbformat_minor": 0,
  "metadata": {
    "colab": {
      "name": "6. Stemming.ipynb",
      "provenance": [],
      "collapsed_sections": [],
      "toc_visible": true,
      "authorship_tag": "ABX9TyM8I+d/5DRpA3FEyx16FP3U"
    },
    "kernelspec": {
      "name": "python3",
      "display_name": "Python 3"
    }
  },
  "cells": [
    {
      "cell_type": "markdown",
      "metadata": {
        "id": "cBSj7b6q_QAN",
        "colab_type": "text"
      },
      "source": [
        "# Menggunakan NLTK"
      ]
    },
    {
      "cell_type": "code",
      "metadata": {
        "id": "Ls-o24OY-a0D",
        "colab_type": "code",
        "outputId": "56357fe9-4c77-48d0-fe43-d1203c3dca07",
        "colab": {
          "base_uri": "https://localhost:8080/",
          "height": 85
        }
      },
      "source": [
        "# Contoh Stemming di NLTK\n",
        "from nltk.stem.lancaster import LancasterStemmer\n",
        "from nltk.stem.porter import PorterStemmer\n",
        "from nltk.stem.snowball import SnowballStemmer\n",
        "\n",
        "T = 'presumably I would like to MultiPly my provision, saying tHat without crYing'\n",
        "print('Sentence: ',T)\n",
        "\n",
        "StemmerS = [LancasterStemmer, PorterStemmer, SnowballStemmer] \n",
        "Names = ['Lancaster', 'Porter', 'SnowBall']\n",
        "for stemmer_name,stem in zip(Names,StemmerS):\n",
        "    if stemmer_name == 'SnowBall':\n",
        "        st = stem('english')\n",
        "    else:\n",
        "        st = stem()\n",
        "    print(stemmer_name,': ',' '.join(st.stem(t) for t in T.split()))\n",
        "# perhatikan, kita tidak melakukan case normalization (lowercase) "
      ],
      "execution_count": 0,
      "outputs": [
        {
          "output_type": "stream",
          "text": [
            "Sentence:  presumably I would like to MultiPly my provision, saying tHat without crYing\n",
            "Lancaster :  presum i would lik to multiply my provision, say that without cry\n",
            "Porter :  presum I would like to multipli my provision, say that without cri\n",
            "SnowBall :  presum i would like to multipli my provision, say that without cri\n"
          ],
          "name": "stdout"
        }
      ]
    },
    {
      "cell_type": "code",
      "metadata": {
        "id": "897W52sAAHzZ",
        "colab_type": "code",
        "outputId": "9129311e-51b3-42bd-d036-df8690ccf072",
        "colab": {
          "base_uri": "https://localhost:8080/",
          "height": 51
        }
      },
      "source": [
        "# Stemming English Porter Stemmer\n",
        "import nltk\n",
        "from nltk.tokenize import word_tokenize \n",
        "nltk.download('punkt')\n",
        "\n",
        "def stemmingEnglish(str):\n",
        "    porter_stemmer = PorterStemmer()\n",
        "    words = word_tokenize(str)\n",
        "    result = list()\n",
        "    for word in words:\n",
        "        result.append(porter_stemmer.stem(word))\n",
        "        \n",
        "    return ' '.join(result)"
      ],
      "execution_count": 0,
      "outputs": [
        {
          "output_type": "stream",
          "text": [
            "[nltk_data] Downloading package punkt to /root/nltk_data...\n",
            "[nltk_data]   Package punkt is already up-to-date!\n"
          ],
          "name": "stdout"
        }
      ]
    },
    {
      "cell_type": "code",
      "metadata": {
        "id": "eBFATbs-Qvf4",
        "colab_type": "code",
        "outputId": "1c008154-bb44-4fe1-a50d-1109771eea27",
        "colab": {
          "base_uri": "https://localhost:8080/",
          "height": 34
        }
      },
      "source": [
        "text_data = \"She had been with her father and sister when she was attacked and received first aid at the scene, an official said.\"\n",
        "stemmingEnglish(text_data)"
      ],
      "execution_count": 0,
      "outputs": [
        {
          "output_type": "execute_result",
          "data": {
            "text/plain": [
              "'she had been with her father and sister when she wa attack and receiv first aid at the scene , an offici said .'"
            ]
          },
          "metadata": {
            "tags": []
          },
          "execution_count": 10
        }
      ]
    },
    {
      "cell_type": "code",
      "metadata": {
        "id": "vhnZNlkgRWc_",
        "colab_type": "code",
        "outputId": "c41ed3c9-c2c1-4de7-9f4f-dfd22f86d029",
        "colab": {
          "base_uri": "https://localhost:8080/",
          "height": 374
        }
      },
      "source": [
        "porter_stemmer = PorterStemmer()\n",
        "\n",
        "word_data = \"It originated from the idea that there are readers who prefer learning new skills from the comforts of their drawing rooms\"\n",
        "nltk_tokens = nltk.word_tokenize(word_data)   # Lakukan tokenisasi\n",
        "for w in nltk_tokens:   # cari kata berdasarkan tokenisasi\n",
        "       print(\"Actual: %s  Stem: %s\"  % (w,porter_stemmer.stem(w)))"
      ],
      "execution_count": 0,
      "outputs": [
        {
          "output_type": "stream",
          "text": [
            "Actual: It  Stem: It\n",
            "Actual: originated  Stem: origin\n",
            "Actual: from  Stem: from\n",
            "Actual: the  Stem: the\n",
            "Actual: idea  Stem: idea\n",
            "Actual: that  Stem: that\n",
            "Actual: there  Stem: there\n",
            "Actual: are  Stem: are\n",
            "Actual: readers  Stem: reader\n",
            "Actual: who  Stem: who\n",
            "Actual: prefer  Stem: prefer\n",
            "Actual: learning  Stem: learn\n",
            "Actual: new  Stem: new\n",
            "Actual: skills  Stem: skill\n",
            "Actual: from  Stem: from\n",
            "Actual: the  Stem: the\n",
            "Actual: comforts  Stem: comfort\n",
            "Actual: of  Stem: of\n",
            "Actual: their  Stem: their\n",
            "Actual: drawing  Stem: draw\n",
            "Actual: rooms  Stem: room\n"
          ],
          "name": "stdout"
        }
      ]
    },
    {
      "cell_type": "code",
      "metadata": {
        "id": "RyKYhB6bd0mf",
        "colab_type": "code",
        "outputId": "7b2242f2-dbda-445b-cc20-9237c78c33b1",
        "colab": {
          "base_uri": "https://localhost:8080/",
          "height": 204
        }
      },
      "source": [
        "porter = PorterStemmer()\n",
        "lancaster=LancasterStemmer()\n",
        "\n",
        "word_list = [\"friend\", \"friendship\", \"friends\", \"friendships\",\"stabil\",\"destabilize\",\"misunderstanding\",\"railroad\",\"moonlight\",\"football\"]\n",
        "print(\"{0:20}{1:20}{2:20}\".format(\"Word\",\"Porter Stemmer\",\"lancaster Stemmer\"))\n",
        "for word in word_list:\n",
        "    print(\"{0:20}{1:20}{2:20}\".format(word,porter.stem(word),lancaster.stem(word)))"
      ],
      "execution_count": 0,
      "outputs": [
        {
          "output_type": "stream",
          "text": [
            "Word                Porter Stemmer      lancaster Stemmer   \n",
            "friend              friend              friend              \n",
            "friendship          friendship          friend              \n",
            "friends             friend              friend              \n",
            "friendships         friendship          friend              \n",
            "stabil              stabil              stabl               \n",
            "destabilize         destabil            dest                \n",
            "misunderstanding    misunderstand       misunderstand       \n",
            "railroad            railroad            railroad            \n",
            "moonlight           moonlight           moonlight           \n",
            "football            footbal             footbal             \n"
          ],
          "name": "stdout"
        }
      ]
    },
    {
      "cell_type": "markdown",
      "metadata": {
        "id": "YkEhNignSPBD",
        "colab_type": "text"
      },
      "source": [
        "# Menggunakan Sastrawi"
      ]
    },
    {
      "cell_type": "code",
      "metadata": {
        "id": "Rbs_OHDtSR6K",
        "colab_type": "code",
        "outputId": "9d3f715b-8ca7-4469-8d5d-b4f31e981ea1",
        "colab": {
          "base_uri": "https://localhost:8080/",
          "height": 102
        }
      },
      "source": [
        "pip install Sastrawi"
      ],
      "execution_count": 0,
      "outputs": [
        {
          "output_type": "stream",
          "text": [
            "Collecting Sastrawi\n",
            "\u001b[?25l  Downloading https://files.pythonhosted.org/packages/6f/4b/bab676953da3103003730b8fcdfadbdd20f333d4add10af949dd5c51e6ed/Sastrawi-1.0.1-py2.py3-none-any.whl (209kB)\n",
            "\r\u001b[K     |█▋                              | 10kB 21.2MB/s eta 0:00:01\r\u001b[K     |███▏                            | 20kB 3.3MB/s eta 0:00:01\r\u001b[K     |████▊                           | 30kB 4.0MB/s eta 0:00:01\r\u001b[K     |██████▎                         | 40kB 3.1MB/s eta 0:00:01\r\u001b[K     |███████▉                        | 51kB 3.4MB/s eta 0:00:01\r\u001b[K     |█████████▍                      | 61kB 4.1MB/s eta 0:00:01\r\u001b[K     |███████████                     | 71kB 4.3MB/s eta 0:00:01\r\u001b[K     |████████████▌                   | 81kB 4.6MB/s eta 0:00:01\r\u001b[K     |██████████████                  | 92kB 5.1MB/s eta 0:00:01\r\u001b[K     |███████████████▋                | 102kB 4.9MB/s eta 0:00:01\r\u001b[K     |█████████████████▏              | 112kB 4.9MB/s eta 0:00:01\r\u001b[K     |██████████████████▊             | 122kB 4.9MB/s eta 0:00:01\r\u001b[K     |████████████████████▎           | 133kB 4.9MB/s eta 0:00:01\r\u001b[K     |█████████████████████▉          | 143kB 4.9MB/s eta 0:00:01\r\u001b[K     |███████████████████████▍        | 153kB 4.9MB/s eta 0:00:01\r\u001b[K     |█████████████████████████       | 163kB 4.9MB/s eta 0:00:01\r\u001b[K     |██████████████████████████▋     | 174kB 4.9MB/s eta 0:00:01\r\u001b[K     |████████████████████████████▏   | 184kB 4.9MB/s eta 0:00:01\r\u001b[K     |█████████████████████████████▊  | 194kB 4.9MB/s eta 0:00:01\r\u001b[K     |███████████████████████████████▎| 204kB 4.9MB/s eta 0:00:01\r\u001b[K     |████████████████████████████████| 215kB 4.9MB/s \n",
            "\u001b[?25hInstalling collected packages: Sastrawi\n",
            "Successfully installed Sastrawi-1.0.1\n"
          ],
          "name": "stdout"
        }
      ]
    },
    {
      "cell_type": "code",
      "metadata": {
        "id": "5k2TpeKmSS2l",
        "colab_type": "code",
        "outputId": "29a70379-b952-4096-c815-106fb2f516c2",
        "colab": {
          "base_uri": "https://localhost:8080/",
          "height": 34
        }
      },
      "source": [
        "from Sastrawi.Stemmer.StemmerFactory import StemmerFactory\n",
        "\n",
        "stemmer = StemmerFactory().create_stemmer()\n",
        "teks = \"perayaan itu bebarengan dengan saat kita berpergian ke Jogjakarta\"\n",
        "print(stemmer.stem(teks))"
      ],
      "execution_count": 0,
      "outputs": [
        {
          "output_type": "stream",
          "text": [
            "raya itu bebarengan dengan saat kita pergi ke jogjakarta\n"
          ],
          "name": "stdout"
        }
      ]
    },
    {
      "cell_type": "code",
      "metadata": {
        "id": "f00ojwnQSoQ3",
        "colab_type": "code",
        "outputId": "24f9d7bc-7168-4980-ff48-497d9439ae78",
        "colab": {
          "base_uri": "https://localhost:8080/",
          "height": 34
        }
      },
      "source": [
        "from Sastrawi.Stemmer.StemmerFactory import StemmerFactory\n",
        "\n",
        "sentence_indo = \"Saya menyukai belajar. Karena sangat menginginkan agar menjadi anak yang pintar. Saya juga ingin membuat bahagia kedua orang tua.\"\n",
        "factory = StemmerFactory()\n",
        "stemmer = factory.create_stemmer()\n",
        "stemmer_indo = stemmer.stem(sentence_indo)\n",
        "print(stemmer_indo)"
      ],
      "execution_count": 0,
      "outputs": [
        {
          "output_type": "stream",
          "text": [
            "saya suka ajar karena sangat ingin agar jadi anak yang pintar saya juga ingin buat bahagia dua orang tua\n"
          ],
          "name": "stdout"
        }
      ]
    },
    {
      "cell_type": "code",
      "metadata": {
        "id": "vh41dgUISbqR",
        "colab_type": "code",
        "outputId": "fb8ec62c-b413-43d6-883f-d927bc0aa540",
        "colab": {
          "base_uri": "https://localhost:8080/",
          "height": 34
        }
      },
      "source": [
        "#Stemming Indonesian\n",
        "def stemmingIndo(str):\n",
        "    factory = StemmerFactory()\n",
        "    stemmer = factory.create_stemmer()\n",
        "    return stemmer.stem(str)\n",
        "\n",
        "text_data = \"Saya suka belajar. Karena ingin menjadi pintar. Selain itu, saya ingin membuat bahagia kedua orang tua.\"\n",
        "stemmingIndo(text_data)"
      ],
      "execution_count": 0,
      "outputs": [
        {
          "output_type": "execute_result",
          "data": {
            "text/plain": [
              "'saya suka ajar karena ingin jadi pintar selain itu saya ingin buat bahagia dua orang tua'"
            ]
          },
          "metadata": {
            "tags": []
          },
          "execution_count": 14
        }
      ]
    }
  ]
}