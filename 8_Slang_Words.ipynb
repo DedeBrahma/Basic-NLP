{
  "nbformat": 4,
  "nbformat_minor": 0,
  "metadata": {
    "colab": {
      "name": "9_Slang Words.ipynb",
      "provenance": [],
      "collapsed_sections": [],
      "authorship_tag": "ABX9TyMn36mfX+5d0wGicRefWRLi"
    },
    "kernelspec": {
      "name": "python3",
      "display_name": "Python 3"
    }
  },
  "cells": [
    {
      "cell_type": "code",
      "metadata": {
        "id": "nlDT3GURhrTl",
        "colab_type": "code",
        "colab": {
          "base_uri": "https://localhost:8080/",
          "height": 68
        },
        "outputId": "c82dd956-0cfe-40fa-c4cc-cb610d5d586f"
      },
      "source": [
        "import nltk\n",
        "nltk.download('punkt')"
      ],
      "execution_count": 2,
      "outputs": [
        {
          "output_type": "stream",
          "text": [
            "[nltk_data] Downloading package punkt to /root/nltk_data...\n",
            "[nltk_data]   Unzipping tokenizers/punkt.zip.\n"
          ],
          "name": "stdout"
        },
        {
          "output_type": "execute_result",
          "data": {
            "text/plain": [
              "True"
            ]
          },
          "metadata": {
            "tags": []
          },
          "execution_count": 2
        }
      ]
    },
    {
      "cell_type": "code",
      "metadata": {
        "id": "BCkQfc5_hVz_",
        "colab_type": "code",
        "colab": {
          "base_uri": "https://localhost:8080/",
          "height": 34
        },
        "outputId": "74932c03-311b-49be-b3b3-fef11911f45c"
      },
      "source": [
        "# Slang words, example: Luv, Gan, dsb\n",
        "fix = {'luv':'love', 'gan':'juragan', 'say':'sayang', 'ndak':'tidak', 'u':'you', 'tau':'tahu', 'sesok':'besok'}\n",
        "tweet = 'I luv u say. serius gan!, tapi ndak tau kalau sesok.'\n",
        "\n",
        "tweet_t = nltk.word_tokenize(tweet)\n",
        "\n",
        "tweet_formal = \"\"\n",
        "for i in tweet_t:\n",
        "    for slang, formal in fix.items():\n",
        "        if i == slang:\n",
        "            i = formal\n",
        "    if i.isalnum():\n",
        "        tweet_formal = tweet_formal+i+\" \"\n",
        "    else:\n",
        "        tweet_formal = tweet_formal[:-1]+i+\" \"\n",
        "print(tweet_formal)"
      ],
      "execution_count": 3,
      "outputs": [
        {
          "output_type": "stream",
          "text": [
            "I love you sayang. serius juragan!, tapi tidak tahu kalau besok. \n"
          ],
          "name": "stdout"
        }
      ]
    },
    {
      "cell_type": "code",
      "metadata": {
        "id": "3dnVWWm0i6P9",
        "colab_type": "code",
        "colab": {}
      },
      "source": [
        "dict = {'luv':'love', 'gan':'juragan', 'say':'sayang', 'ndak':'tidak', 'u':'you', 'tau':'tahu', 'sesok':'besok'}\n",
        "f = open(\"test.dic\",\"w\")\n",
        "f.write( str(dict))\n",
        "f.close()"
      ],
      "execution_count": 0,
      "outputs": []
    },
    {
      "cell_type": "code",
      "metadata": {
        "id": "TkgMmX7Ckjlm",
        "colab_type": "code",
        "colab": {
          "base_uri": "https://localhost:8080/",
          "height": 51
        },
        "outputId": "3f07e988-60ea-4e39-bb2d-bde1799f7e61"
      },
      "source": [
        "file = './sample_data/slang.dic'\n",
        "fix2 = {}\n",
        "with open(file) as f:\n",
        "    for line in f:\n",
        "       (key, val) = line.split(':')\n",
        "       fix2[key] = val.replace('\\n',' ')\n",
        "print (fix2)\n",
        "tweet2 = 'I luv u say. serius gan!, tapi ndak tau kalau sesok.'\n",
        "tweet_t = nltk.word_tokenize(tweet2)\n",
        "tweet_formal = \"\"\n",
        "for i in tweet_t:\n",
        "    for slang, formal in fix.items():\n",
        "        if i == slang:\n",
        "            i = formal\n",
        "    if i.isalnum():\n",
        "        tweet_formal = tweet_formal+i+\" \"\n",
        "    else:\n",
        "        tweet_formal = tweet_formal[:-1]+i+\" \"\n",
        "print(tweet_formal)"
      ],
      "execution_count": 14,
      "outputs": [
        {
          "output_type": "stream",
          "text": [
            "{'luv': 'love ', 'gan': 'juragan ', 'say': 'sayang ', 'ndak': 'tidak ', 'u': 'you ', 'tau': 'tahu ', 'sesok': 'besok '}\n",
            "I love you sayang. serius juragan!, tapi tidak tahu kalau besok. \n"
          ],
          "name": "stdout"
        }
      ]
    }
  ]
}
