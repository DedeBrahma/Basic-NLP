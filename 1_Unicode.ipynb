{
  "nbformat": 4,
  "nbformat_minor": 0,
  "metadata": {
    "colab": {
      "name": "1. Unicode.ipynb",
      "provenance": [],
      "collapsed_sections": [],
      "toc_visible": true,
      "authorship_tag": "ABX9TyN99Gt9c6YlZVKersVY8H1h"
    },
    "kernelspec": {
      "name": "python3",
      "display_name": "Python 3"
    }
  },
  "cells": [
    {
      "cell_type": "markdown",
      "metadata": {
        "id": "vse1Y0xOtXKP",
        "colab_type": "text"
      },
      "source": [
        "![alt text](https://files.realpython.com/media/encode-decode.3e665ad9b455.png)\n",
        "\n",
        "\n",
        "Ref:\n",
        "\n",
        "https://pypi.org/project/Unidecode/\n",
        "\n",
        "https://www.rapidtables.com/code/text/unicode-characters.html"
      ]
    },
    {
      "cell_type": "code",
      "metadata": {
        "id": "5bc3nbG8doDj",
        "colab_type": "code",
        "outputId": "dc0dfe18-0915-482b-ff0a-02e9c8084563",
        "colab": {
          "base_uri": "https://localhost:8080/",
          "height": 51
        }
      },
      "source": [
        "print(\"Encoding:\", \"résumé\".encode(\"utf-8\"))\n",
        "print(\"Decoding:\", b\"r\\xc3\\xa9sum\\xc3\\xa9\".decode(\"utf-8\"))"
      ],
      "execution_count": 0,
      "outputs": [
        {
          "output_type": "stream",
          "text": [
            "Encoding: b'r\\xc3\\xa9sum\\xc3\\xa9'\n",
            "Decoding: résumé\n"
          ],
          "name": "stdout"
        }
      ]
    },
    {
      "cell_type": "code",
      "metadata": {
        "id": "c9YOsb02drtO",
        "colab_type": "code",
        "outputId": "f2770f03-cc9e-4b46-e33f-fc8857112408",
        "colab": {
          "base_uri": "https://localhost:8080/",
          "height": 51
        }
      },
      "source": [
        "print(\"Encoding:\",\"El Niño\".encode(\"utf-8\"))\n",
        "print(\"Decoding:\", b\"El Ni\\xc3\\xb1o\".decode(\"utf-8\"))"
      ],
      "execution_count": 0,
      "outputs": [
        {
          "output_type": "stream",
          "text": [
            "Encoding: b'El Ni\\xc3\\xb1o'\n",
            "Decoding: El Niño\n"
          ],
          "name": "stdout"
        }
      ]
    },
    {
      "cell_type": "markdown",
      "metadata": {
        "id": "CM6PJGdqeHas",
        "colab_type": "text"
      },
      "source": [
        "\n",
        "\n",
        "---\n",
        "\n",
        "Menggunakan library unidecode"
      ]
    },
    {
      "cell_type": "code",
      "metadata": {
        "id": "JzQujf9iRBMt",
        "colab_type": "code",
        "outputId": "2aedd2af-2d85-480e-ee3e-5f6383131a80",
        "colab": {
          "base_uri": "https://localhost:8080/",
          "height": 102
        }
      },
      "source": [
        "pip install unidecode"
      ],
      "execution_count": 0,
      "outputs": [
        {
          "output_type": "stream",
          "text": [
            "Collecting unidecode\n",
            "\u001b[?25l  Downloading https://files.pythonhosted.org/packages/d0/42/d9edfed04228bacea2d824904cae367ee9efd05e6cce7ceaaedd0b0ad964/Unidecode-1.1.1-py2.py3-none-any.whl (238kB)\n",
            "\r\u001b[K     |█▍                              | 10kB 16.8MB/s eta 0:00:01\r\u001b[K     |██▊                             | 20kB 2.2MB/s eta 0:00:01\r\u001b[K     |████▏                           | 30kB 3.2MB/s eta 0:00:01\r\u001b[K     |█████▌                          | 40kB 4.1MB/s eta 0:00:01\r\u001b[K     |██████▉                         | 51kB 2.6MB/s eta 0:00:01\r\u001b[K     |████████▎                       | 61kB 3.1MB/s eta 0:00:01\r\u001b[K     |█████████▋                      | 71kB 3.4MB/s eta 0:00:01\r\u001b[K     |███████████                     | 81kB 3.9MB/s eta 0:00:01\r\u001b[K     |████████████▍                   | 92kB 4.3MB/s eta 0:00:01\r\u001b[K     |█████████████▊                  | 102kB 3.5MB/s eta 0:00:01\r\u001b[K     |███████████████▏                | 112kB 3.5MB/s eta 0:00:01\r\u001b[K     |████████████████▌               | 122kB 3.5MB/s eta 0:00:01\r\u001b[K     |█████████████████▉              | 133kB 3.5MB/s eta 0:00:01\r\u001b[K     |███████████████████▎            | 143kB 3.5MB/s eta 0:00:01\r\u001b[K     |████████████████████▋           | 153kB 3.5MB/s eta 0:00:01\r\u001b[K     |██████████████████████          | 163kB 3.5MB/s eta 0:00:01\r\u001b[K     |███████████████████████▍        | 174kB 3.5MB/s eta 0:00:01\r\u001b[K     |████████████████████████▊       | 184kB 3.5MB/s eta 0:00:01\r\u001b[K     |██████████████████████████▏     | 194kB 3.5MB/s eta 0:00:01\r\u001b[K     |███████████████████████████▌    | 204kB 3.5MB/s eta 0:00:01\r\u001b[K     |████████████████████████████▉   | 215kB 3.5MB/s eta 0:00:01\r\u001b[K     |██████████████████████████████▎ | 225kB 3.5MB/s eta 0:00:01\r\u001b[K     |███████████████████████████████▋| 235kB 3.5MB/s eta 0:00:01\r\u001b[K     |████████████████████████████████| 245kB 3.5MB/s \n",
            "\u001b[?25hInstalling collected packages: unidecode\n",
            "Successfully installed unidecode-1.1.1\n"
          ],
          "name": "stdout"
        }
      ]
    },
    {
      "cell_type": "code",
      "metadata": {
        "id": "cSnSKr0D2ofx",
        "colab_type": "code",
        "colab": {}
      },
      "source": [
        "from unidecode import unidecode"
      ],
      "execution_count": 0,
      "outputs": []
    },
    {
      "cell_type": "code",
      "metadata": {
        "id": "PqVo_XPh6OJh",
        "colab_type": "code",
        "outputId": "ff060d17-3772-4f91-fd7d-d0391bd276c6",
        "colab": {
          "base_uri": "https://localhost:8080/",
          "height": 34
        }
      },
      "source": [
        "teks_1 = \"ḊḕḀṙ ₲ØĐ, p̾l̾e̾a̾s̾e ḧḕḶṖ ṁḕ\"\n",
        "teks_2 = \"\\u0040dede_brahma\"\n",
        "teks = teks_2 + ' ' + teks_1\n",
        "print(unidecode(teks).lower())"
      ],
      "execution_count": 0,
      "outputs": [
        {
          "output_type": "stream",
          "text": [
            "@dede_brahma dear god, please help me\n"
          ],
          "name": "stdout"
        }
      ]
    },
    {
      "cell_type": "code",
      "metadata": {
        "id": "p4wBuRWnG0MV",
        "colab_type": "code",
        "outputId": "de3764b3-5afa-4302-bbe8-7bfa61dfbe6a",
        "colab": {
          "base_uri": "https://localhost:8080/",
          "height": 34
        }
      },
      "source": [
        "# merubah kata/kalimat\n",
        "kalimat = \"Hi, salam kenal teman-teman semuanya :)\"\n",
        "kalimat = kalimat.replace(\"Hi\", \"Halo\")     # mengganti kata Hi menjadi Halo, (huruf kapital berpengaruh..!!)\n",
        "kalimat"
      ],
      "execution_count": 0,
      "outputs": [
        {
          "output_type": "execute_result",
          "data": {
            "text/plain": [
              "'Halo, salam kenal teman-teman semuanya :)'"
            ]
          },
          "metadata": {
            "tags": []
          },
          "execution_count": 63
        }
      ]
    },
    {
      "cell_type": "code",
      "metadata": {
        "id": "M0FIIbfMOLqe",
        "colab_type": "code",
        "outputId": "615711fc-b2ab-4316-eed5-060e78c5f42f",
        "colab": {
          "base_uri": "https://localhost:8080/",
          "height": 34
        }
      },
      "source": [
        "singkatan = {'luv':'love', 'gan':'juragan', 'say':'sayang', 'ndak':'tidak', ' u ':' you ', 'tau':'tahu', 'sesok':'besok'}   # daftar slang word (kata singkatan alay)\n",
        "tweet = 'I luv u say. serius gan!, tapi ndak tau kalau sesok.'\n",
        "for slang, formal in singkatan.items():   # buat perulangan untuk menggantikan kalimat yang mengandung slang word\n",
        "    tweet = tweet.replace(slang,formal)\n",
        "print(tweet)"
      ],
      "execution_count": 0,
      "outputs": [
        {
          "output_type": "stream",
          "text": [
            "I love you sayang. serius juragan!, tapi tidak tahu kalau besok.\n"
          ],
          "name": "stdout"
        }
      ]
    },
    {
      "cell_type": "markdown",
      "metadata": {
        "id": "UjO6bLR8RPP3",
        "colab_type": "text"
      },
      "source": [
        "\n",
        "\n",
        "---\n",
        "\n",
        "**HTML Unicode**\n",
        "\n",
        "Ref:\n",
        "\n",
        "https://docs.python.org/3/library/html.html"
      ]
    },
    {
      "cell_type": "code",
      "metadata": {
        "id": "p4RXW6r2OvyY",
        "colab_type": "code",
        "outputId": "69493287-0803-4987-fdce-6b33ce41b9d2",
        "colab": {
          "base_uri": "https://localhost:8080/",
          "height": 34
        }
      },
      "source": [
        "from html import unescape\n",
        "\n",
        "htmltext = '&#169;tapir darat, Hatiku bagaikan &#1606; bertemu &#1576; kalo deket kamu &#10084; &#9887;'\n",
        "print(unescape(htmltext))"
      ],
      "execution_count": 0,
      "outputs": [
        {
          "output_type": "stream",
          "text": [
            "©tapir darat, Hatiku bagaikan ن bertemu ب kalo deket kamu ❤ ⚟\n"
          ],
          "name": "stdout"
        }
      ]
    }
  ]
}