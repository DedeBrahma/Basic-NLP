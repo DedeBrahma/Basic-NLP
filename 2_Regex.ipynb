{
  "nbformat": 4,
  "nbformat_minor": 0,
  "metadata": {
    "colab": {
      "name": "2. Regex.ipynb",
      "provenance": [],
      "collapsed_sections": [],
      "toc_visible": true,
      "authorship_tag": "ABX9TyODWd5S0AB3sEeKyUXAcslF"
    },
    "kernelspec": {
      "name": "python3",
      "display_name": "Python 3"
    }
  },
  "cells": [
    {
      "cell_type": "markdown",
      "metadata": {
        "id": "_P9FdQOggUfl",
        "colab_type": "text"
      },
      "source": [
        "![alt text](https://ucarecdn.com/39f93d0d-248e-4e94-b402-b744c4b06a4d/-/resize/1000x/)\n",
        "\n",
        "Ref:\n",
        "\n",
        "https://www.tutorialspoint.com/python/python_reg_expressions.htm\n",
        "\n",
        "https://regexr.com/"
      ]
    },
    {
      "cell_type": "code",
      "metadata": {
        "id": "1WIRQJXRfi16",
        "colab_type": "code",
        "colab": {}
      },
      "source": [
        "import re"
      ],
      "execution_count": 0,
      "outputs": []
    },
    {
      "cell_type": "code",
      "metadata": {
        "id": "awpYSFgO1-WG",
        "colab_type": "code",
        "outputId": "875d4139-8326-49c9-aedc-c6faaa182ca8",
        "colab": {
          "base_uri": "https://localhost:8080/",
          "height": 34
        }
      },
      "source": [
        "teks = 'kontak saya di dede.brahma2@gmail.com'\n",
        "pattern = re.compile(r'[\\w._%+-]+@[\\w\\.-]+\\.[a-zA-Z]{2,4}')   # mencocokkan (re.compile) kata yang mengandung (huruf, ada @ dan angka dalam satu kata) menggunakan regex\n",
        "txtClean = re.sub(pattern, '[EMAIL]', teks)   # mengganti (re.sub) kalimat yang mengandung pattern regex menjadi EMAIL\n",
        "txtClean"
      ],
      "execution_count": 0,
      "outputs": [
        {
          "output_type": "execute_result",
          "data": {
            "text/plain": [
              "'kontak saya di [EMAIL]'"
            ]
          },
          "metadata": {
            "tags": []
          },
          "execution_count": 2
        }
      ]
    },
    {
      "cell_type": "code",
      "metadata": {
        "id": "h3RUoGFk2ATd",
        "colab_type": "code",
        "outputId": "5a7df6d3-858b-4ec6-baeb-1582e131f265",
        "colab": {
          "base_uri": "https://localhost:8080/",
          "height": 34
        }
      },
      "source": [
        "emails = re.findall(pattern, teks)      # mencari (re.findall) kata yang mengandung pattern regex pada kalimat\n",
        "emails"
      ],
      "execution_count": 0,
      "outputs": [
        {
          "output_type": "execute_result",
          "data": {
            "text/plain": [
              "['dede.brahma2@gmail.com']"
            ]
          },
          "metadata": {
            "tags": []
          },
          "execution_count": 3
        }
      ]
    },
    {
      "cell_type": "code",
      "metadata": {
        "id": "QnkNXg-w2CJW",
        "colab_type": "code",
        "outputId": "e6d24fa3-c91b-4f41-fb9b-d629771400fe",
        "colab": {
          "base_uri": "https://localhost:8080/",
          "height": 51
        }
      },
      "source": [
        "emailPattern = re.compile(r'[\\w._%+-]+@[\\w\\.-]+\\.[a-zA-Z]{2,4}')\n",
        "txt = 'Contact kami di admin@nlpindonesia.org, nlp.indonesia@yahoo.co.id, atau nlp_nusantara@internet.net'\n",
        "print( re.sub(emailPattern, '***', txt) )\n",
        "eMailS = re.findall( emailPattern, txt )\n",
        "print( 'email yang ditemukan: ', str(eMailS) )"
      ],
      "execution_count": 0,
      "outputs": [
        {
          "output_type": "stream",
          "text": [
            "Contact kami di ***, ***, atau ***\n",
            "email yang ditemukan:  ['admin@nlpindonesia.org', 'nlp.indonesia@yahoo.co.id', 'nlp_nusantara@internet.net']\n"
          ],
          "name": "stdout"
        }
      ]
    },
    {
      "cell_type": "code",
      "metadata": {
        "id": "AM_iuf_M2D3k",
        "colab_type": "code",
        "outputId": "1cd879b2-5b83-45f1-c952-53afca343ffc",
        "colab": {
          "base_uri": "https://localhost:8080/",
          "height": 51
        }
      },
      "source": [
        "phonePattern = re.compile(r'\\b\\d{8,14}\\b')      # mencocokkan (re.compile) kata yang mengandung (angka dalam satu kata) menggunakan regex\n",
        "txt = 'Contact kami di 082295203040 atau +6282295203040'\n",
        "print(re.sub(phonePattern,'***',txt))         # mengganti (re.sub) kalimat yang mengandung pattern regex menjadi ***\n",
        "    \n",
        "noTelp = re.findall(phonePattern,txt)\n",
        "print('Phone number found: ',str(noTelp))"
      ],
      "execution_count": 0,
      "outputs": [
        {
          "output_type": "stream",
          "text": [
            "Contact kami di *** atau +***\n",
            "Phone number found:  ['082295203040', '6282295203040']\n"
          ],
          "name": "stdout"
        }
      ]
    },
    {
      "cell_type": "code",
      "metadata": {
        "id": "QbZzLM3jetu-",
        "colab_type": "code",
        "outputId": "24199dda-cb58-431c-a369-f36a12a692f4",
        "colab": {
          "base_uri": "https://localhost:8080/",
          "height": 34
        }
      },
      "source": [
        "def removeDigit(str):\n",
        "    new_string =  re.sub(r\"[0-9]\", \" \", str)\n",
        "    return new_string\n",
        "\n",
        "text_data = \"saya lahir tanggal 20 Februari 2020\"\n",
        "removeDigit(text_data)"
      ],
      "execution_count": 0,
      "outputs": [
        {
          "output_type": "execute_result",
          "data": {
            "text/plain": [
              "'saya lahir tanggal    Februari     '"
            ]
          },
          "metadata": {
            "tags": []
          },
          "execution_count": 10
        }
      ]
    },
    {
      "cell_type": "code",
      "metadata": {
        "id": "9IQKXJJr2FoL",
        "colab_type": "code",
        "outputId": "6a7d2dc2-a452-44ee-a0d3-dff1b08945fa",
        "colab": {
          "base_uri": "https://localhost:8080/",
          "height": 51
        }
      },
      "source": [
        "urlPattern = re.compile(r'http[s]?://(?:[a-zA-Z]|[0-9]|[$-_@.&+]|[!*\\(\\),]|(?:%[0-9a-fA-F][0-9a-fA-F]))+')     # mencocokkan (re.compile) kata yang mengandung (diawali https dan diikuti huruf atau angka) menggunakan regex\n",
        "txt = 'website reguler expression & python site : https://www.regular-expressions.info/ & http://python.org'\n",
        "print(re.sub(urlPattern,' ',txt))         # mengganti (re.sub) kalimat yang mengandung pattern regex menjadi (spasi/kosong)\n",
        "\n",
        "URLs = re.findall(urlPattern,txt)\n",
        "print('URL found: ',str(URLs))"
      ],
      "execution_count": 0,
      "outputs": [
        {
          "output_type": "stream",
          "text": [
            "website reguler expression & python site :   &  \n",
            "URL found:  ['https://www.regular-expressions.info/', 'http://python.org']\n"
          ],
          "name": "stdout"
        }
      ]
    },
    {
      "cell_type": "code",
      "metadata": {
        "id": "GNDdwV__2HK5",
        "colab_type": "code",
        "outputId": "34494676-b317-4725-ea36-4ddd5e8f4924",
        "colab": {
          "base_uri": "https://localhost:8080/",
          "height": 34
        }
      },
      "source": [
        "txt = 'Hi! @Mukidi, apa kabar? #sapa_Pagi.'\n",
        "txtc = re.sub(r'[^\\w]',' ',txt)   # hilangkan special char (!) (@) (,) (?) (#) (.)\n",
        "txtc = re.sub(r'\\s\\s+',' ',txtc)  # kurangi multi whitespace\n",
        "txtc"
      ],
      "execution_count": 0,
      "outputs": [
        {
          "output_type": "execute_result",
          "data": {
            "text/plain": [
              "'Hi Mukidi apa kabar sapa_Pagi '"
            ]
          },
          "metadata": {
            "tags": []
          },
          "execution_count": 7
        }
      ]
    },
    {
      "cell_type": "code",
      "metadata": {
        "id": "fbFDpcb22Iup",
        "colab_type": "code",
        "outputId": "89129a6a-ee6f-4151-851c-136cb7f7cbc7",
        "colab": {
          "base_uri": "https://localhost:8080/",
          "height": 34
        }
      },
      "source": [
        "tweet = 'oh IoT, #AndaiSajaIaTahu #ApaYangAkuRasah... #AlayersTweet'\n",
        "getHashtags = re.compile(r\"#(\\w+)\")   # mencocokkan kata yang mengandung (simbol #)\n",
        "print(\"Tags = {0}\".format(re.findall(getHashtags, tweet)))"
      ],
      "execution_count": 0,
      "outputs": [
        {
          "output_type": "stream",
          "text": [
            "Tags = ['AndaiSajaIaTahu', 'ApaYangAkuRasah', 'AlayersTweet']\n"
          ],
          "name": "stdout"
        }
      ]
    },
    {
      "cell_type": "code",
      "metadata": {
        "id": "niet7P2g2Kiv",
        "colab_type": "code",
        "outputId": "300efe93-a1e7-4e06-fdff-9520de17e59d",
        "colab": {
          "base_uri": "https://localhost:8080/",
          "height": 68
        }
      },
      "source": [
        "pisahtags = re.compile(r'[A-Z][^A-Z]*')   # mencocokkan kata yang mengandung (huruf besar)\n",
        "for tags in re.findall(getHashtags, tweet):   # mencari kata pada variabel tweet dan dilakukan pemisahan menggunakan (getHashtags)\n",
        "    print(re.findall(pisahtags, tags))"
      ],
      "execution_count": 0,
      "outputs": [
        {
          "output_type": "stream",
          "text": [
            "['Andai', 'Saja', 'Ia', 'Tahu']\n",
            "['Apa', 'Yang', 'Aku', 'Rasah']\n",
            "['Alayers', 'Tweet']\n"
          ],
          "name": "stdout"
        }
      ]
    }
  ]
}